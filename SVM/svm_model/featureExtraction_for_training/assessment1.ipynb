{
 "cells": [
  {
   "cell_type": "markdown",
   "metadata": {},
   "source": [
    "# Assessment 1 Souce Code Notebook "
   ]
  },
  {
   "cell_type": "markdown",
   "metadata": {},
   "source": [
    "## import library"
   ]
  },
  {
   "cell_type": "code",
   "execution_count": 1,
   "metadata": {
    "collapsed": true
   },
   "outputs": [],
   "source": [
    "import numpy as np\n",
    "import pandas as pd\n",
    "from sklearn.svm import SVC\n",
    "from sklearn import metrics\n",
    "import matplotlib.pyplot as plt\n",
    "import os\n",
    "import nltk\n",
    "from nltk.corpus import reuters\n",
    "import collections\n",
    "import math\n",
    "from string import punctuation\n",
    "from nltk.corpus import stopwords\n",
    "from nltk import word_tokenize\n",
    "from sklearn.preprocessing import OneHotEncoder, LabelEncoder\n",
    "from sklearn.decomposition import PCA\n",
    "from sklearn.svm import SVC\n",
    "from sklearn.model_selection import cross_val_score"
   ]
  },
  {
   "cell_type": "markdown",
   "metadata": {},
   "source": [
    "## Data load"
   ]
  },
  {
   "cell_type": "code",
   "execution_count": 2,
   "metadata": {
    "collapsed": false
   },
   "outputs": [
    {
     "name": "stdout",
     "output_type": "stream",
     "text": [
      "11998\n",
      "       difficulty         word\n",
      "6681           11       cobble\n",
      "11997           7        rouse\n",
      "11039           7   scandalous\n",
      "7529            4      farming\n",
      "11964           7  instinctive\n"
     ]
    }
   ],
   "source": [
    "path=os.getcwd()\n",
    "traindata=pd.read_csv(path+'/data.csv',encoding=\"shift-jis\",header=None, names=('difficulty', 'word'),keep_default_na=False)\n",
    "traindata=traindata.sample(frac=1, random_state=0)\n",
    "print(len(traindata))\n",
    "print(traindata.head())"
   ]
  },
  {
   "cell_type": "markdown",
   "metadata": {},
   "source": [
    " ## Data processing and Define features\n",
    " "
   ]
  },
  {
   "cell_type": "markdown",
   "metadata": {},
   "source": [
    "I'll define features :\n",
    "\n",
    "* Word length\n",
    "* The Proportion of word in reuters / The Proportion rate of word in reuters\n",
    "* part of speech\n",
    "* The number of vowels\n",
    "* The number of consonants\n",
    "* The Proportion of vowels in a word\n",
    "* The Proportion of consonants in a word"
   ]
  },
  {
   "cell_type": "markdown",
   "metadata": {},
   "source": [
    "### Word length"
   ]
  },
  {
   "cell_type": "code",
   "execution_count": 3,
   "metadata": {
    "collapsed": false
   },
   "outputs": [
    {
     "name": "stdout",
     "output_type": "stream",
     "text": [
      "       difficulty         word  length\n",
      "6681           11       cobble       6\n",
      "11997           7        rouse       5\n",
      "11039           7   scandalous      10\n",
      "7529            4      farming       7\n",
      "11964           7  instinctive      11\n"
     ]
    }
   ],
   "source": [
    "wordLength = []\n",
    "\n",
    "for i in range(len(traindata)):\n",
    "    wordLength.append(len(traindata.word.iat[i]))\n",
    "    \n",
    "traindata[\"length\"]=wordLength\n",
    "print(traindata.head())"
   ]
  },
  {
   "cell_type": "markdown",
   "metadata": {},
   "source": [
    "### The Proportion of word in reuters / The Proportion rate of word in reuters\n",
    "reference : https://nlpforhackers.io/tf-idf/"
   ]
  },
  {
   "cell_type": "code",
   "execution_count": 4,
   "metadata": {
    "collapsed": false
   },
   "outputs": [
    {
     "name": "stdout",
     "output_type": "stream",
     "text": [
      "       difficulty         word  length   tf rate  tf\n",
      "6681           11       cobble       6  0.000000   0\n",
      "11997           7        rouse       5  0.000000   0\n",
      "11039           7   scandalous      10  0.000000   0\n",
      "7529            4      farming       7  0.000026  16\n",
      "11964           7  instinctive      11  0.000000   0\n",
      "610240\n"
     ]
    }
   ],
   "source": [
    "tf = []\n",
    "tfRate=[]\n",
    "stop_words = stopwords.words('english') + list(punctuation)\n",
    "\n",
    "def tokenize(text):\n",
    "    words = word_tokenize(text)\n",
    "    words = [w.lower() for w in words]\n",
    "    return [w for w in words if w not in stop_words and not w.isdigit()]\n",
    "\n",
    "# build the vocabulary in one pass\n",
    "vocabulary = set()\n",
    "for file_id in reuters.fileids():\n",
    "    words = tokenize(reuters.raw(file_id))\n",
    "    vocabulary.update(words)\n",
    " \n",
    "vocabulary = list(vocabulary)\n",
    "word_index = {w: idx for idx, w in enumerate(vocabulary)}\n",
    " \n",
    "VOCABULARY_SIZE = len(vocabulary)\n",
    "DOCUMENTS_COUNT = len(reuters.fileids())\n",
    " \n",
    "wordCount = collections.defaultdict(lambda: 0)\n",
    "for file_id in reuters.fileids():\n",
    "    words = set(tokenize(reuters.raw(file_id)))\n",
    "    for word in words:\n",
    "        wordCount[word] += 1\n",
    "\n",
    "sumWords=0\n",
    "for word in wordCount:\n",
    "    sumWords+= wordCount[word]\n",
    "    \n",
    "for k in range(len(traindata)):\n",
    "    tf.append(wordCount[traindata.word.iat[k]])\n",
    "    tfRate.append(wordCount[traindata.word.iat[k]]/sumWords)\n",
    "        \n",
    "traindata[\"tf rate\"] = tfRate\n",
    "traindata[\"tf\"] = tf\n",
    "\n",
    "print(traindata.head())\n",
    "print(sumWords)"
   ]
  },
  {
   "cell_type": "markdown",
   "metadata": {},
   "source": [
    "### part of speech"
   ]
  },
  {
   "cell_type": "code",
   "execution_count": 5,
   "metadata": {
    "collapsed": false
   },
   "outputs": [
    {
     "name": "stdout",
     "output_type": "stream",
     "text": [
      "       difficulty         word  length   tf rate  tf partOfSpeech\n",
      "6681           11       cobble       6  0.000000   0           JJ\n",
      "11997           7        rouse       5  0.000000   0           NN\n",
      "11039           7   scandalous      10  0.000000   0           JJ\n",
      "7529            4      farming       7  0.000026  16          VBG\n",
      "11964           7  instinctive      11  0.000000   0           JJ\n"
     ]
    }
   ],
   "source": [
    "a=nltk.pos_tag(traindata.word)\n",
    "partOfSpeech=[]\n",
    "\n",
    "for j in range(len(traindata)):\n",
    "    partOfSpeech.append(a[j][1])\n",
    "traindata[\"partOfSpeech\"]=partOfSpeech\n",
    "# len(partOfSpeech)\n",
    "print(traindata.head())"
   ]
  },
  {
   "cell_type": "markdown",
   "metadata": {},
   "source": [
    "### The number of vowels / The number of consonants / \n",
    "### The Proportion of vowels in a word / The Proportion of consonants in a word\n",
    "\n"
   ]
  },
  {
   "cell_type": "code",
   "execution_count": 6,
   "metadata": {
    "collapsed": false
   },
   "outputs": [
    {
     "name": "stdout",
     "output_type": "stream",
     "text": [
      "       difficulty         word  length   tf rate  tf partOfSpeech  \\\n",
      "6681           11       cobble       6  0.000000   0           JJ   \n",
      "11997           7        rouse       5  0.000000   0           NN   \n",
      "11039           7   scandalous      10  0.000000   0           JJ   \n",
      "7529            4      farming       7  0.000026  16          VBG   \n",
      "11964           7  instinctive      11  0.000000   0           JJ   \n",
      "\n",
      "       numberOfVowels  numberOfConsonants  proportionOfVowels  \\\n",
      "6681                2                   4            0.333333   \n",
      "11997               3                   2            0.600000   \n",
      "11039               4                   6            0.400000   \n",
      "7529                2                   5            0.285714   \n",
      "11964               4                   7            0.363636   \n",
      "\n",
      "       proportionOfConsonants  \n",
      "6681                 0.666667  \n",
      "11997                0.400000  \n",
      "11039                0.600000  \n",
      "7529                 0.714286  \n",
      "11964                0.636364  \n"
     ]
    }
   ],
   "source": [
    "numberOfVowels = []\n",
    "numberOfConsonants = []\n",
    "proportionOfVowels = []\n",
    "proportionOfConsonants = []\n",
    "\n",
    "for i in range(len(traindata)):\n",
    "    numberOfVowels.append(traindata.word.iat[i].count('a')+traindata.word.iat[i].count('i')+traindata.word.iat[i].count('u')+traindata.word.iat[i].count('e')+traindata.word.iat[i].count('o'))\n",
    "    numberOfConsonants.append(traindata.length.iat[i] - (traindata.word.iat[i].count('a')+traindata.word.iat[i].count('i')+traindata.word.iat[i].count('u')+traindata.word.iat[i].count('e')+traindata.word.iat[i].count('o')))\n",
    "    proportionOfVowels.append((traindata.word.iat[i].count('a')+traindata.word.iat[i].count('i')+traindata.word.iat[i].count('u')+traindata.word.iat[i].count('e')+traindata.word.iat[i].count('o'))/traindata.length.iat[i])\n",
    "    proportionOfConsonants.append((traindata.length.iat[i] - (traindata.word.iat[i].count('a')+traindata.word.iat[i].count('i')+traindata.word.iat[i].count('u')+traindata.word.iat[i].count('e')+traindata.word.iat[i].count('o')))/traindata.length.iat[i])\n",
    "\n",
    "traindata[\"numberOfVowels\"] = numberOfVowels\n",
    "traindata[\"numberOfConsonants\"] = numberOfConsonants\n",
    "traindata[\"proportionOfVowels\"] = proportionOfVowels\n",
    "traindata[\"proportionOfConsonants\"] = proportionOfConsonants\n",
    "print(traindata.head())"
   ]
  },
  {
   "cell_type": "markdown",
   "metadata": {},
   "source": [
    "### Data Processing"
   ]
  },
  {
   "cell_type": "code",
   "execution_count": 7,
   "metadata": {
    "collapsed": false,
    "scrolled": true
   },
   "outputs": [
    {
     "name": "stdout",
     "output_type": "stream",
     "text": [
      "[ 0.  0.  0.  0.  0.  1.  0.  0.  0.  0.  0.  0.  0.  0.  0.  0.  0.  0.\n",
      "  0.  0.  0.  0.  0.  0.  0.  0.  0.  0.  0.  0.  0.]\n",
      "[6 0.0 0 2 4 0.3333333333333333 0.6666666666666666 0.0 0.0 0.0 0.0 0.0 1.0\n",
      " 0.0 0.0 0.0 0.0 0.0 0.0 0.0 0.0 0.0 0.0 0.0 0.0 0.0 0.0 0.0 0.0 0.0 0.0\n",
      " 0.0 0.0 0.0 0.0 0.0 0.0 0.0]\n",
      "[11 7 7 ..., 10 2 8]\n",
      "       difficulty         word  length   tf rate  tf partOfSpeech  \\\n",
      "6681           11       cobble       6  0.000000   0           JJ   \n",
      "11997           7        rouse       5  0.000000   0           NN   \n",
      "11039           7   scandalous      10  0.000000   0           JJ   \n",
      "7529            4      farming       7  0.000026  16          VBG   \n",
      "11964           7  instinctive      11  0.000000   0           JJ   \n",
      "\n",
      "       numberOfVowels  numberOfConsonants  proportionOfVowels  \\\n",
      "6681                2                   4            0.333333   \n",
      "11997               3                   2            0.600000   \n",
      "11039               4                   6            0.400000   \n",
      "7529                2                   5            0.285714   \n",
      "11964               4                   7            0.363636   \n",
      "\n",
      "       proportionOfConsonants  \n",
      "6681                 0.666667  \n",
      "11997                0.400000  \n",
      "11039                0.600000  \n",
      "7529                 0.714286  \n",
      "11964                0.636364  \n"
     ]
    }
   ],
   "source": [
    "# Convert OneHot Vector \n",
    "leSpeech = LabelEncoder()\n",
    "oeSpeech = OneHotEncoder()\n",
    "enSpeech = leSpeech.fit_transform(traindata.partOfSpeech)\n",
    "print(oeSpeech.fit_transform(enSpeech.reshape(-1, 1)).toarray()[0])\n",
    "\n",
    "\n",
    "tmp = np.array(traindata.values.flatten())\n",
    "tmp_2 = np.reshape(tmp,(len(traindata),10))\n",
    "tmp_2 = np.delete(tmp_2, 1, axis=1)\n",
    "datasetList = np.delete(tmp_2, 4, axis=1)\n",
    "\n",
    "featuresList = np.delete(datasetList, 0, axis=1)\n",
    "featuresList = np.c_[featuresList,oeSpeech.fit_transform(enSpeech.reshape(-1, 1)).toarray()]\n",
    "print(featuresList[0])\n",
    "\n",
    "labelList = np.delete(datasetList, [1,2,3,4,5,6,7], axis=1)\n",
    "print(np.reshape(labelList,(len(traindata))))\n",
    "labelList = np.reshape(labelList,(len(traindata)))\n",
    "\n",
    "print(traindata.head())"
   ]
  },
  {
   "cell_type": "code",
   "execution_count": 16,
   "metadata": {
    "collapsed": false
   },
   "outputs": [
    {
     "data": {
      "text/plain": [
       "38"
      ]
     },
     "execution_count": 16,
     "metadata": {},
     "output_type": "execute_result"
    }
   ],
   "source": [
    "len(featuresList[0])"
   ]
  },
  {
   "cell_type": "markdown",
   "metadata": {},
   "source": [
    "## PCA"
   ]
  },
  {
   "cell_type": "code",
   "execution_count": 8,
   "metadata": {
    "collapsed": false
   },
   "outputs": [
    {
     "name": "stdout",
     "output_type": "stream",
     "text": [
      "0.999873371659\n"
     ]
    },
    {
     "data": {
      "image/png": "[encoded data removed]",
      "text/plain": [
       "<matplotlib.figure.Figure at 0x7f7711dedcc0>"
      ]
     },
     "metadata": {},
     "output_type": "display_data"
    }
   ],
   "source": [
    "pca1 = PCA(n_components=2)\n",
    "pca1.fit(featuresList)\n",
    "\n",
    "featuresList_proj=pca1.fit_transform(featuresList)\n",
    "\n",
    "print (np.sum(pca1.explained_variance_ratio_))\n",
    "\n",
    "#plot the PC as a scatter plot\n",
    "plt.scatter(featuresList_proj[:,0], featuresList_proj[:,1], c=labelList)\n",
    "plt.colorbar()\n",
    "\n",
    "plt.show()"
   ]
  },
  {
   "cell_type": "code",
   "execution_count": 15,
   "metadata": {
    "collapsed": false
   },
   "outputs": [
    {
     "name": "stdout",
     "output_type": "stream",
     "text": [
      "[  9.99166383e-01   7.06988978e-04]\n",
      "[[ -1.98516768e-03   1.63869458e-06   9.99996982e-01  -7.61585050e-04\n",
      "   -1.22358263e-03   6.42769807e-06  -6.42769807e-06  -3.22943532e-07\n",
      "    7.27009925e-05   1.16495974e-06  -3.08781358e-06   2.15872952e-05\n",
      "   -8.39584626e-05   8.44678907e-07   1.11598179e-06   3.30219816e-05\n",
      "   -4.53063276e-05  -8.72730930e-06  -1.69040270e-07   1.34831643e-06\n",
      "   -2.26436518e-06  -1.35181697e-06   1.57955478e-05   1.69311130e-06\n",
      "    3.11047763e-06  -8.17447787e-07  -1.68929782e-07  -1.62045094e-07\n",
      "    1.46485521e-05  -7.91367982e-07  -9.38767342e-06   1.09663826e-05\n",
      "   -1.46346215e-05  -3.71081543e-06  -6.72913532e-07  -1.12480221e-06\n",
      "    3.81782170e-07  -1.72136388e-06]\n",
      " [  8.13021272e-01   4.01683193e-09   2.45123161e-03   3.42731761e-01\n",
      "    4.70289511e-01   3.75160868e-03  -3.75160868e-03  -2.75853556e-04\n",
      "   -1.52189453e-04  -6.44075628e-04  -4.38171102e-04  -2.37902761e-03\n",
      "    1.43115754e-02  -2.59838065e-04  -5.26940559e-04  -1.78254371e-04\n",
      "   -8.25274455e-03  -4.97807782e-04  -1.16196344e-06  -4.61432458e-04\n",
      "   -6.45912348e-04  -2.91332134e-04   2.99008029e-03  -2.55933579e-04\n",
      "   -2.26573132e-05  -1.24216450e-04  -6.35692665e-05  -6.35454159e-05\n",
      "   -4.78169436e-04  -1.56210602e-04   4.25152925e-03  -2.75676053e-04\n",
      "   -4.06841990e-03  -5.02014370e-04  -9.87560497e-05  -1.89445832e-04\n",
      "   -2.54496360e-05  -2.24379423e-04]]\n"
     ]
    }
   ],
   "source": [
    "print(pca1.explained_variance_ratio_)\n",
    "print(pca1.components_)"
   ]
  },
  {
   "cell_type": "markdown",
   "metadata": {},
   "source": [
    "## SVM"
   ]
  },
  {
   "cell_type": "markdown",
   "metadata": {},
   "source": [
    "### Raw input"
   ]
  },
  {
   "cell_type": "code",
   "execution_count": 9,
   "metadata": {
    "collapsed": false
   },
   "outputs": [
    {
     "name": "stdout",
     "output_type": "stream",
     "text": [
      "[ 0.167998    0.16991992  0.17617618]\n"
     ]
    }
   ],
   "source": [
    "clf=SVC(kernel='linear')\n",
    "labelListSVM = labelList.tolist()\n",
    "print(cross_val_score(clf, featuresList, labelListSVM, cv=3))"
   ]
  },
  {
   "cell_type": "code",
   "execution_count": 10,
   "metadata": {
    "collapsed": false
   },
   "outputs": [
    {
     "name": "stdout",
     "output_type": "stream",
     "text": [
      "[ 0.167998    0.15740741  0.16291291]\n"
     ]
    }
   ],
   "source": [
    "clf_rbf=SVC(kernel='rbf', gamma=0.001)\n",
    "    \n",
    "print(cross_val_score(clf_rbf, featuresList, labelListSVM, cv=3))"
   ]
  },
  {
   "cell_type": "markdown",
   "metadata": {},
   "source": [
    "### PCA Input"
   ]
  },
  {
   "cell_type": "code",
   "execution_count": 11,
   "metadata": {
    "collapsed": true
   },
   "outputs": [],
   "source": [
    "featuresListd = pca1.transform(featuresList)"
   ]
  },
  {
   "cell_type": "code",
   "execution_count": 12,
   "metadata": {
    "collapsed": false
   },
   "outputs": [
    {
     "name": "stdout",
     "output_type": "stream",
     "text": [
      "[ 0.16125811  0.16391391  0.16791792]\n"
     ]
    }
   ],
   "source": [
    "clf2=SVC(kernel='linear')\n",
    "labelListSVM = labelList.tolist()\n",
    "print(cross_val_score(clf2, featuresListd, labelListSVM, cv=3))"
   ]
  },
  {
   "cell_type": "code",
   "execution_count": 13,
   "metadata": {
    "collapsed": false
   },
   "outputs": [
    {
     "name": "stdout",
     "output_type": "stream",
     "text": [
      "[ 0.16475287  0.15990991  0.16216216]\n"
     ]
    }
   ],
   "source": [
    "clf_rbf2=SVC(kernel='rbf', gamma=0.001)\n",
    "    \n",
    "print(cross_val_score(clf_rbf2, featuresListd, labelListSVM, cv=3))"
   ]
  },
  {
   "cell_type": "markdown",
   "metadata": {},
   "source": [
    "### test onle PC2"
   ]
  },
  {
   "cell_type": "code",
   "execution_count": 21,
   "metadata": {
    "collapsed": false
   },
   "outputs": [
    {
     "name": "stdout",
     "output_type": "stream",
     "text": [
      "[[-1.51454789]\n",
      " [-2.94597988]\n",
      " [ 3.36407996]\n",
      " ..., \n",
      " [-2.79490723]\n",
      " [-1.53711221]\n",
      " [-0.37819335]]\n",
      "[[-24.54941241  -1.51454789]\n",
      " [-24.54569959  -2.94597988]\n",
      " [-24.56132256   3.36407996]\n",
      " ..., \n",
      " [-23.54620583  -2.79490723]\n",
      " [-24.54937376  -1.53711221]\n",
      " [-23.55212231  -0.37819335]]\n"
     ]
    }
   ],
   "source": [
    "print(np.delete(featuresListd,0,axis=1))\n",
    "print(featuresListd)\n",
    "featuresListd2=np.delete(featuresListd,0,axis=1)"
   ]
  },
  {
   "cell_type": "code",
   "execution_count": 22,
   "metadata": {
    "collapsed": false
   },
   "outputs": [
    {
     "name": "stdout",
     "output_type": "stream",
     "text": [
      "[ 0.12880679  0.13488488  0.14089089]\n"
     ]
    }
   ],
   "source": [
    "clf3=SVC(kernel='linear')\n",
    "labelListSVM = labelList.tolist()\n",
    "print(cross_val_score(clf3, featuresListd2, labelListSVM, cv=3))"
   ]
  },
  {
   "cell_type": "code",
   "execution_count": 23,
   "metadata": {
    "collapsed": false
   },
   "outputs": [
    {
     "name": "stdout",
     "output_type": "stream",
     "text": [
      "[ 0.12755866  0.13413413  0.14089089]\n"
     ]
    }
   ],
   "source": [
    "clf_rbf3=SVC(kernel='rbf', gamma=0.001)\n",
    "print(cross_val_score(clf_rbf3, featuresListd2, labelListSVM, cv=3))"
   ]
  },
  {
   "cell_type": "markdown",
   "metadata": {},
   "source": [
    "### PC2 and PC3"
   ]
  },
  {
   "cell_type": "code",
   "execution_count": 24,
   "metadata": {
    "collapsed": false
   },
   "outputs": [
    {
     "name": "stdout",
     "output_type": "stream",
     "text": [
      "0.999948996861\n"
     ]
    },
    {
     "data": {
      "image/png": "[encoded data removed]",
      "text/plain": [
       "<matplotlib.figure.Figure at 0x7f7710bef198>"
      ]
     },
     "metadata": {},
     "output_type": "display_data"
    }
   ],
   "source": [
    "pca2 = PCA(n_components=3)\n",
    "pca2.fit(featuresList)\n",
    "\n",
    "featuresList_proj2=pca2.fit_transform(featuresList)\n",
    "\n",
    "print (np.sum(pca2.explained_variance_ratio_))\n",
    "\n",
    "#plot the PC as a scatter plot\n",
    "plt.scatter(featuresList_proj2[:,1], featuresList_proj2[:,2], c=labelList)\n",
    "plt.colorbar()\n",
    "\n",
    "plt.show()"
   ]
  },
  {
   "cell_type": "code",
   "execution_count": 27,
   "metadata": {
    "collapsed": false
   },
   "outputs": [
    {
     "data": {
      "text/plain": [
       "array([[-1.51454789,  0.35637969],\n",
       "       [-2.94597988, -1.64596971],\n",
       "       [ 3.36407996, -0.08870079],\n",
       "       ..., \n",
       "       [-2.79490723, -0.24499631],\n",
       "       [-1.53711221,  0.38766668],\n",
       "       [-0.37819335, -0.43529894]])"
      ]
     },
     "execution_count": 27,
     "metadata": {},
     "output_type": "execute_result"
    }
   ],
   "source": [
    "featuresListd3 = pca2.transform(featuresList)\n",
    "featuresListd3 = np.delete(featuresListd3,0,axis=1)\n",
    "featuresListd3"
   ]
  },
  {
   "cell_type": "code",
   "execution_count": 28,
   "metadata": {
    "collapsed": false
   },
   "outputs": [
    {
     "name": "stdout",
     "output_type": "stream",
     "text": [
      "[ 0.12855716  0.14264264  0.12812813]\n"
     ]
    }
   ],
   "source": [
    "clf4=SVC(kernel='linear')\n",
    "labelListSVM = labelList.tolist()\n",
    "print(cross_val_score(clf4, featuresListd3, labelListSVM, cv=3))"
   ]
  },
  {
   "cell_type": "code",
   "execution_count": 29,
   "metadata": {
    "collapsed": false
   },
   "outputs": [
    {
     "name": "stdout",
     "output_type": "stream",
     "text": [
      "[ 0.12680979  0.13788789  0.13638639]\n"
     ]
    }
   ],
   "source": [
    "clf_rbf4=SVC(kernel='rbf', gamma=0.001)\n",
    "    \n",
    "print(cross_val_score(clf_rbf4, featuresListd3, labelListSVM, cv=3))"
   ]
  },
  {
   "cell_type": "markdown",
   "metadata": {},
   "source": [
    "## DNN"
   ]
  },
  {
   "cell_type": "markdown",
   "metadata": {},
   "source": [
    "### all bach"
   ]
  },
  {
   "cell_type": "code",
   "execution_count": 40,
   "metadata": {
    "collapsed": false
   },
   "outputs": [
    {
     "name": "stdout",
     "output_type": "stream",
     "text": [
      "[ 0.  0.  0.  0.  0.  0.  0.  0.  0.  0.  1.  0.]\n",
      "Epoch 1/20\n",
      "11998/11998 [==============================] - 2s 129us/step - loss: 3.2062 - acc: 0.1185\n",
      "Epoch 2/20\n",
      "11998/11998 [==============================] - 1s 68us/step - loss: 2.3689 - acc: 0.1338\n",
      "Epoch 3/20\n",
      "11998/11998 [==============================] - 1s 70us/step - loss: 2.3339 - acc: 0.1525\n",
      "Epoch 4/20\n",
      "11998/11998 [==============================] - 1s 79us/step - loss: 2.3240 - acc: 0.1543\n",
      "Epoch 5/20\n",
      "11998/11998 [==============================] - 1s 83us/step - loss: 2.3187 - acc: 0.1623\n",
      "Epoch 6/20\n",
      "11998/11998 [==============================] - 1s 71us/step - loss: 2.3107 - acc: 0.1655\n",
      "Epoch 7/20\n",
      "11998/11998 [==============================] - 1s 57us/step - loss: 2.3052 - acc: 0.1695\n",
      "Epoch 8/20\n",
      "11998/11998 [==============================] - 1s 83us/step - loss: 2.3048 - acc: 0.1697\n",
      "Epoch 9/20\n",
      "11998/11998 [==============================] - 1s 60us/step - loss: 2.3264 - acc: 0.1672\n",
      "Epoch 10/20\n",
      "11998/11998 [==============================] - 1s 60us/step - loss: 2.3471 - acc: 0.1629\n",
      "Epoch 11/20\n",
      "11998/11998 [==============================] - 1s 85us/step - loss: 2.3006 - acc: 0.1708\n",
      "Epoch 12/20\n",
      "11998/11998 [==============================] - 1s 76us/step - loss: 2.3202 - acc: 0.1654\n",
      "Epoch 13/20\n",
      "11998/11998 [==============================] - 1s 81us/step - loss: 2.2963 - acc: 0.1710\n",
      "Epoch 14/20\n",
      "11998/11998 [==============================] - 1s 77us/step - loss: 2.2996 - acc: 0.1751\n",
      "Epoch 15/20\n",
      "11998/11998 [==============================] - 1s 85us/step - loss: 2.2905 - acc: 0.1762\n",
      "Epoch 16/20\n",
      "11998/11998 [==============================] - 1s 69us/step - loss: 2.2954 - acc: 0.1754\n",
      "Epoch 17/20\n",
      "11998/11998 [==============================] - 1s 81us/step - loss: 2.2903 - acc: 0.1756\n",
      "Epoch 18/20\n",
      "11998/11998 [==============================] - 1s 79us/step - loss: 2.2921 - acc: 0.1744\n",
      "Epoch 19/20\n",
      "11998/11998 [==============================] - 1s 70us/step - loss: 2.2862 - acc: 0.1810\n",
      "Epoch 20/20\n",
      "11998/11998 [==============================] - 1s 67us/step - loss: 2.2947 - acc: 0.1710\n",
      "11998/11998 [==============================] - 1s 57us/step\n",
      "loss 2.28321165795\n",
      "accuracy 0.17702950572\n"
     ]
    }
   ],
   "source": [
    "from keras.models import Sequential\n",
    "from keras.layers import Dense, Activation\n",
    "from keras.optimizers import SGD\n",
    "import keras\n",
    "import numpy as np\n",
    "leLabel = LabelEncoder()\n",
    "oeLavel = OneHotEncoder()\n",
    "enLabel = leLabel.fit_transform(labelList)\n",
    "print(oeLavel.fit_transform(enLabel.reshape(-1, 1)).toarray()[0])\n",
    "\n",
    "x_train = featuresList\n",
    "y_train = keras.utils.to_categorical(enLabel, num_classes=12)\n",
    "x_test = featuresList\n",
    "y_test = keras.utils.to_categorical(enLabel, num_classes=12)\n",
    "\n",
    "model = Sequential()\n",
    "model.add(Dense(100, activation='relu', input_dim=38))\n",
    "model.add(Dense(100, activation='relu'))\n",
    "model.add(Dense(12, activation='softmax'))\n",
    "\n",
    "sgd = SGD(lr=0.01, decay=1e-6, momentum=0.9, nesterov=True)\n",
    "model.compile(loss='categorical_crossentropy',\n",
    "              optimizer=sgd,\n",
    "              metrics=['accuracy'])\n",
    "\n",
    "model.fit(x_train, y_train,epochs=20,batch_size=100)\n",
    "score = model.evaluate(x_test, y_test, batch_size=100)\n",
    "print(\"loss\",score[0])\n",
    "print(\"accuracy\",score[1])"
   ]
  },
  {
   "cell_type": "markdown",
   "metadata": {},
   "source": [
    "### Cross-validation"
   ]
  },
  {
   "cell_type": "code",
   "execution_count": 47,
   "metadata": {
    "collapsed": false
   },
   "outputs": [
    {
     "name": "stdout",
     "output_type": "stream",
     "text": [
      "[ 0.  0.  0.  0.  0.  0.  0.  0.  0.  0.  1.  0.]\n",
      "Epoch 1/20\n",
      "7998/7998 [==============================] - 2s 214us/step - loss: 2.8332 - acc: 0.1199\n",
      "Epoch 2/20\n",
      "7998/7998 [==============================] - 1s 83us/step - loss: 2.7336 - acc: 0.1359\n",
      "Epoch 3/20\n",
      "7998/7998 [==============================] - 1s 89us/step - loss: 2.3655 - acc: 0.1429\n",
      "Epoch 4/20\n",
      "7998/7998 [==============================] - 1s 66us/step - loss: 2.3780 - acc: 0.1438\n",
      "Epoch 5/20\n",
      "7998/7998 [==============================] - 1s 76us/step - loss: 2.3466 - acc: 0.1480\n",
      "Epoch 6/20\n",
      "7998/7998 [==============================] - 1s 71us/step - loss: 2.3265 - acc: 0.1489\n",
      "Epoch 7/20\n",
      "7998/7998 [==============================] - 1s 72us/step - loss: 2.3177 - acc: 0.1555\n",
      "Epoch 8/20\n",
      "7998/7998 [==============================] - 0s 49us/step - loss: 2.3159 - acc: 0.1603\n",
      "Epoch 9/20\n",
      "7998/7998 [==============================] - 1s 73us/step - loss: 2.3162 - acc: 0.1579\n",
      "Epoch 10/20\n",
      "7998/7998 [==============================] - 1s 74us/step - loss: 2.3085 - acc: 0.1637\n",
      "Epoch 11/20\n",
      "7998/7998 [==============================] - 1s 70us/step - loss: 2.3200 - acc: 0.1645\n",
      "Epoch 12/20\n",
      "7998/7998 [==============================] - 1s 83us/step - loss: 2.3160 - acc: 0.1639\n",
      "Epoch 13/20\n",
      "7998/7998 [==============================] - 1s 76us/step - loss: 2.3014 - acc: 0.1717\n",
      "Epoch 14/20\n",
      "7998/7998 [==============================] - 1s 79us/step - loss: 2.2994 - acc: 0.1680\n",
      "Epoch 15/20\n",
      "7998/7998 [==============================] - 1s 77us/step - loss: 2.2954 - acc: 0.1708\n",
      "Epoch 16/20\n",
      "7998/7998 [==============================] - 0s 61us/step - loss: 2.2938 - acc: 0.1709\n",
      "Epoch 17/20\n",
      "7998/7998 [==============================] - 1s 73us/step - loss: 2.2924 - acc: 0.1747\n",
      "Epoch 18/20\n",
      "7998/7998 [==============================] - 1s 70us/step - loss: 2.2904 - acc: 0.1705\n",
      "Epoch 19/20\n",
      "7998/7998 [==============================] - 1s 67us/step - loss: 2.2913 - acc: 0.1710: 0s - loss: 2.2895 - acc: 0.1\n",
      "Epoch 20/20\n",
      "7998/7998 [==============================] - 1s 78us/step - loss: 2.2878 - acc: 0.1752\n",
      "4000/4000 [==============================] - 1s 160us/step\n",
      "loss 2.30667015314\n",
      "accuracy 0.173500001151\n",
      "Epoch 1/20\n",
      "7999/7999 [==============================] - 1s 182us/step - loss: 3.6897 - acc: 0.1241\n",
      "Epoch 2/20\n",
      "7999/7999 [==============================] - 1s 88us/step - loss: 3.4129 - acc: 0.1210\n",
      "Epoch 3/20\n",
      "7999/7999 [==============================] - 1s 81us/step - loss: 2.9407 - acc: 0.1210\n",
      "Epoch 4/20\n",
      "7999/7999 [==============================] - 1s 71us/step - loss: 2.3991 - acc: 0.1416\n",
      "Epoch 5/20\n",
      "7999/7999 [==============================] - 1s 83us/step - loss: 2.3695 - acc: 0.1528\n",
      "Epoch 6/20\n",
      "7999/7999 [==============================] - 1s 76us/step - loss: 2.3501 - acc: 0.1595\n",
      "Epoch 7/20\n",
      "7999/7999 [==============================] - 1s 83us/step - loss: 2.4847 - acc: 0.1488\n",
      "Epoch 8/20\n",
      "7999/7999 [==============================] - 1s 108us/step - loss: 5.1410 - acc: 0.1318\n",
      "Epoch 9/20\n",
      "7999/7999 [==============================] - 1s 107us/step - loss: 4.0829 - acc: 0.1268\n",
      "Epoch 10/20\n",
      "7999/7999 [==============================] - 1s 69us/step - loss: 2.4798 - acc: 0.1373\n",
      "Epoch 11/20\n",
      "7999/7999 [==============================] - 1s 76us/step - loss: 2.3630 - acc: 0.1396\n",
      "Epoch 12/20\n",
      "7999/7999 [==============================] - 1s 82us/step - loss: 2.3505 - acc: 0.1513\n",
      "Epoch 13/20\n",
      "7999/7999 [==============================] - 1s 74us/step - loss: 2.3439 - acc: 0.1496\n",
      "Epoch 14/20\n",
      "7999/7999 [==============================] - 1s 86us/step - loss: 2.3377 - acc: 0.1593\n",
      "Epoch 15/20\n",
      "7999/7999 [==============================] - 1s 85us/step - loss: 2.3325 - acc: 0.1585\n",
      "Epoch 16/20\n",
      "7999/7999 [==============================] - 1s 79us/step - loss: 2.3247 - acc: 0.1613\n",
      "Epoch 17/20\n",
      "7999/7999 [==============================] - 1s 105us/step - loss: 2.3208 - acc: 0.1664\n",
      "Epoch 18/20\n",
      "7999/7999 [==============================] - 1s 104us/step - loss: 2.3196 - acc: 0.1625\n",
      "Epoch 19/20\n",
      "7999/7999 [==============================] - 1s 66us/step - loss: 2.3162 - acc: 0.1671\n",
      "Epoch 20/20\n",
      "7999/7999 [==============================] - 1s 90us/step - loss: 2.3145 - acc: 0.1703\n",
      "3999/3999 [==============================] - 1s 165us/step\n",
      "loss 2.31808083568\n",
      "accuracy 0.145786447033\n",
      "Epoch 1/20\n",
      "7999/7999 [==============================] - 2s 203us/step - loss: 2.8835 - acc: 0.1173\n",
      "Epoch 2/20\n",
      "7999/7999 [==============================] - 1s 87us/step - loss: 2.4728 - acc: 0.1259\n",
      "Epoch 3/20\n",
      "7999/7999 [==============================] - 1s 80us/step - loss: 2.3582 - acc: 0.1361\n",
      "Epoch 4/20\n",
      "7999/7999 [==============================] - 1s 74us/step - loss: 2.3408 - acc: 0.1378\n",
      "Epoch 5/20\n",
      "7999/7999 [==============================] - 1s 80us/step - loss: 2.3297 - acc: 0.1466\n",
      "Epoch 6/20\n",
      "7999/7999 [==============================] - 1s 77us/step - loss: 2.3220 - acc: 0.1531\n",
      "Epoch 7/20\n",
      "7999/7999 [==============================] - 0s 55us/step - loss: 2.3205 - acc: 0.1541\n",
      "Epoch 8/20\n",
      "7999/7999 [==============================] - 1s 75us/step - loss: 2.3140 - acc: 0.1566\n",
      "Epoch 9/20\n",
      "7999/7999 [==============================] - 0s 56us/step - loss: 2.3112 - acc: 0.1685\n",
      "Epoch 10/20\n",
      "7999/7999 [==============================] - 1s 86us/step - loss: 2.3068 - acc: 0.1661\n",
      "Epoch 11/20\n",
      "7999/7999 [==============================] - 1s 69us/step - loss: 2.3053 - acc: 0.1623\n",
      "Epoch 12/20\n",
      "7999/7999 [==============================] - 1s 67us/step - loss: 2.3014 - acc: 0.1691\n",
      "Epoch 13/20\n",
      "7999/7999 [==============================] - 1s 71us/step - loss: 2.3229 - acc: 0.1621\n",
      "Epoch 14/20\n",
      "7999/7999 [==============================] - 1s 94us/step - loss: 2.3102 - acc: 0.1640\n",
      "Epoch 15/20\n",
      "7999/7999 [==============================] - 1s 98us/step - loss: 2.3003 - acc: 0.1716\n",
      "Epoch 16/20\n",
      "7999/7999 [==============================] - 1s 75us/step - loss: 2.2985 - acc: 0.1708\n",
      "Epoch 17/20\n",
      "7999/7999 [==============================] - 1s 73us/step - loss: 2.2968 - acc: 0.1693\n",
      "Epoch 18/20\n",
      "7999/7999 [==============================] - 1s 78us/step - loss: 2.2941 - acc: 0.1741\n",
      "Epoch 19/20\n",
      "7999/7999 [==============================] - 1s 74us/step - loss: 2.2904 - acc: 0.1775\n",
      "Epoch 20/20\n",
      "7999/7999 [==============================] - 1s 78us/step - loss: 2.3006 - acc: 0.1705\n",
      "3999/3999 [==============================] - 1s 169us/step\n",
      "loss 2.30787688692\n",
      "accuracy 0.168792198444\n",
      "[2.3066701531410216, 2.318080835683431, 2.3078768869196362]\n",
      "[0.17350000115111469, 0.14578644703271598, 0.16879219844449189]\n",
      "Loss mean 2.31087595858\n",
      "accuracy mean 0.162692882209\n"
     ]
    }
   ],
   "source": [
    "import sklearn\n",
    "from keras.models import Sequential\n",
    "from keras.layers import Dense, Activation\n",
    "from keras.optimizers import SGD\n",
    "import keras\n",
    "import numpy as np\n",
    "leLabel = LabelEncoder()\n",
    "oeLavel = OneHotEncoder()\n",
    "enLabel = leLabel.fit_transform(labelList)\n",
    "print(oeLavel.fit_transform(enLabel.reshape(-1, 1)).toarray()[0])\n",
    "\n",
    "labelCate=keras.utils.to_categorical(enLabel, num_classes=12)\n",
    "\n",
    "lossList = []\n",
    "accuracyList = []\n",
    "# cross validation\n",
    "kf = sklearn.model_selection.KFold(3, shuffle=True)\n",
    "for train_indices, test_indices in kf.split(featuresList, labelCate):\n",
    "    model = Sequential()\n",
    "    model.add(Dense(100, activation='relu', input_dim=38))\n",
    "    model.add(Dense(100, activation='relu'))\n",
    "    model.add(Dense(12, activation='softmax'))\n",
    "\n",
    "    sgd = SGD(lr=0.01, decay=1e-6, momentum=0.9, nesterov=True)\n",
    "    model.compile(loss='categorical_crossentropy',\n",
    "                  optimizer=sgd,\n",
    "                  metrics=['accuracy'])\n",
    "    # 学習\n",
    "    X_train = featuresList[train_indices]\n",
    "    y_train = labelCate[train_indices]\n",
    "    X_test = featuresList[test_indices]\n",
    "    y_test = labelCate[test_indices]\n",
    "    hist = model.fit(X_train, y_train,epochs=20,batch_size=100)\n",
    "    score = model.evaluate(X_test, y_test, batch_size=100)\n",
    "    lossList.append(score[0])\n",
    "    accuracyList.append(score[1])\n",
    "    print(\"loss\",score[0])\n",
    "    print(\"accuracy\",score[1])\n",
    "\n",
    "print(lossList)\n",
    "print(accuracyList)\n",
    "print(\"Loss mean\",sum(lossList)/len(lossList))\n",
    "print(\"accuracy mean\",sum(accuracyList)/len(accuracyList))"
   ]
  },
  {
   "cell_type": "code",
   "execution_count": 48,
   "metadata": {
    "collapsed": false
   },
   "outputs": [
    {
     "name": "stdout",
     "output_type": "stream",
     "text": [
      "[ 0.  0.  0.  0.  0.  0.  0.  0.  0.  0.  1.  0.]\n",
      "Epoch 1/20\n",
      "7998/7998 [==============================] - 2s 218us/step - loss: 3.0879 - acc: 0.1235\n",
      "Epoch 2/20\n",
      "7998/7998 [==============================] - 1s 96us/step - loss: 2.4555 - acc: 0.1259\n",
      "Epoch 3/20\n",
      "7998/7998 [==============================] - 1s 69us/step - loss: 2.3892 - acc: 0.1375\n",
      "Epoch 4/20\n",
      "7998/7998 [==============================] - 1s 80us/step - loss: 2.3490 - acc: 0.1434\n",
      "Epoch 5/20\n",
      "7998/7998 [==============================] - 1s 82us/step - loss: 2.3323 - acc: 0.1540\n",
      "Epoch 6/20\n",
      "7998/7998 [==============================] - 1s 73us/step - loss: 2.3354 - acc: 0.1548\n",
      "Epoch 7/20\n",
      "7998/7998 [==============================] - 1s 70us/step - loss: 2.3219 - acc: 0.1592\n",
      "Epoch 8/20\n",
      "7998/7998 [==============================] - 1s 85us/step - loss: 2.3176 - acc: 0.1618\n",
      "Epoch 9/20\n",
      "7998/7998 [==============================] - 1s 72us/step - loss: 2.3119 - acc: 0.1648\n",
      "Epoch 10/20\n",
      "7998/7998 [==============================] - 1s 87us/step - loss: 2.3109 - acc: 0.1640\n",
      "Epoch 11/20\n",
      "7998/7998 [==============================] - 1s 80us/step - loss: 2.3126 - acc: 0.1640\n",
      "Epoch 12/20\n",
      "7998/7998 [==============================] - 1s 71us/step - loss: 2.3067 - acc: 0.1625\n",
      "Epoch 13/20\n",
      "7998/7998 [==============================] - 1s 70us/step - loss: 2.3054 - acc: 0.1693\n",
      "Epoch 14/20\n",
      "7998/7998 [==============================] - 1s 66us/step - loss: 2.3004 - acc: 0.1724\n",
      "Epoch 15/20\n",
      "7998/7998 [==============================] - 0s 58us/step - loss: 2.3004 - acc: 0.1710\n",
      "Epoch 16/20\n",
      "7998/7998 [==============================] - 1s 67us/step - loss: 2.3006 - acc: 0.1713\n",
      "Epoch 17/20\n",
      "7998/7998 [==============================] - 1s 81us/step - loss: 2.2968 - acc: 0.1700\n",
      "Epoch 18/20\n",
      "7998/7998 [==============================] - 1s 78us/step - loss: 2.2998 - acc: 0.1675\n",
      "Epoch 19/20\n",
      "7998/7998 [==============================] - 1s 76us/step - loss: 2.3101 - acc: 0.1653\n",
      "Epoch 20/20\n",
      "7998/7998 [==============================] - 0s 59us/step - loss: 2.3045 - acc: 0.1688\n",
      "4000/4000 [==============================] - 0s 104us/step\n",
      "loss 2.3057253778\n",
      "accuracy 0.172500000708\n",
      "Epoch 1/20\n",
      "7999/7999 [==============================] - 1s 166us/step - loss: 3.5738 - acc: 0.1148\n",
      "Epoch 2/20\n",
      "7999/7999 [==============================] - 1s 90us/step - loss: 4.5067 - acc: 0.1269\n",
      "Epoch 3/20\n",
      "7999/7999 [==============================] - 1s 74us/step - loss: 4.1263 - acc: 0.1183\n",
      "Epoch 4/20\n",
      "7999/7999 [==============================] - 1s 81us/step - loss: 3.1477 - acc: 0.1183\n",
      "Epoch 5/20\n",
      "7999/7999 [==============================] - 1s 72us/step - loss: 2.4091 - acc: 0.1285\n",
      "Epoch 6/20\n",
      "7999/7999 [==============================] - 1s 77us/step - loss: 2.3888 - acc: 0.1356\n",
      "Epoch 7/20\n",
      "7999/7999 [==============================] - 1s 75us/step - loss: 2.3739 - acc: 0.1409\n",
      "Epoch 8/20\n",
      "7999/7999 [==============================] - 0s 55us/step - loss: 2.3606 - acc: 0.1445\n",
      "Epoch 9/20\n",
      "7999/7999 [==============================] - 1s 85us/step - loss: 2.3509 - acc: 0.1480\n",
      "Epoch 10/20\n",
      "7999/7999 [==============================] - 1s 63us/step - loss: 2.3410 - acc: 0.1545\n",
      "Epoch 11/20\n",
      "7999/7999 [==============================] - 1s 68us/step - loss: 2.3360 - acc: 0.1510\n",
      "Epoch 12/20\n",
      "7999/7999 [==============================] - 1s 75us/step - loss: 2.3286 - acc: 0.1608\n",
      "Epoch 13/20\n",
      "7999/7999 [==============================] - 1s 86us/step - loss: 2.3290 - acc: 0.1640\n",
      "Epoch 14/20\n",
      "7999/7999 [==============================] - 0s 61us/step - loss: 2.3223 - acc: 0.1608\n",
      "Epoch 15/20\n",
      "7999/7999 [==============================] - 1s 80us/step - loss: 2.3227 - acc: 0.1634\n",
      "Epoch 16/20\n",
      "7999/7999 [==============================] - 1s 81us/step - loss: 2.3211 - acc: 0.1590\n",
      "Epoch 17/20\n",
      "7999/7999 [==============================] - 1s 85us/step - loss: 2.3164 - acc: 0.1625\n",
      "Epoch 18/20\n",
      "7999/7999 [==============================] - 1s 67us/step - loss: 2.3222 - acc: 0.1655\n",
      "Epoch 19/20\n",
      "7999/7999 [==============================] - 1s 86us/step - loss: 2.3155 - acc: 0.1634\n",
      "Epoch 20/20\n",
      "7999/7999 [==============================] - 1s 79us/step - loss: 2.3156 - acc: 0.1629\n",
      "3999/3999 [==============================] - 1s 141us/step\n",
      "loss 2.3308638083\n",
      "accuracy 0.161040259338\n",
      "Epoch 1/20\n",
      "7999/7999 [==============================] - 1s 178us/step - loss: 3.3857 - acc: 0.1260\n",
      "Epoch 2/20\n",
      "7999/7999 [==============================] - 1s 78us/step - loss: 2.6532 - acc: 0.1294\n",
      "Epoch 3/20\n",
      "7999/7999 [==============================] - 1s 70us/step - loss: 2.3643 - acc: 0.1444\n",
      "Epoch 4/20\n",
      "7999/7999 [==============================] - 1s 88us/step - loss: 2.3439 - acc: 0.1474: 0s - loss: 2.3546 - acc: 0.142 - ETA: 0s - loss: 2.3519 - a\n",
      "Epoch 5/20\n",
      "7999/7999 [==============================] - 1s 76us/step - loss: 2.3401 - acc: 0.1475\n",
      "Epoch 6/20\n",
      "7999/7999 [==============================] - 1s 76us/step - loss: 2.3241 - acc: 0.1546\n",
      "Epoch 7/20\n",
      "7999/7999 [==============================] - 1s 97us/step - loss: 2.3179 - acc: 0.1571\n",
      "Epoch 8/20\n",
      "7999/7999 [==============================] - 1s 86us/step - loss: 2.3174 - acc: 0.1579\n",
      "Epoch 9/20\n",
      "7999/7999 [==============================] - 1s 65us/step - loss: 2.3186 - acc: 0.1584\n",
      "Epoch 10/20\n",
      "7999/7999 [==============================] - 1s 68us/step - loss: 2.3139 - acc: 0.1650: 0s - loss: 2.3054 - ac\n",
      "Epoch 11/20\n",
      "7999/7999 [==============================] - 1s 72us/step - loss: 2.3194 - acc: 0.1630\n",
      "Epoch 12/20\n",
      "7999/7999 [==============================] - 1s 76us/step - loss: 2.3171 - acc: 0.1764\n",
      "Epoch 13/20\n",
      "7999/7999 [==============================] - 1s 86us/step - loss: 2.2971 - acc: 0.1681\n",
      "Epoch 14/20\n",
      "7999/7999 [==============================] - 1s 75us/step - loss: 2.2947 - acc: 0.1708\n",
      "Epoch 15/20\n",
      "7999/7999 [==============================] - 1s 84us/step - loss: 2.2950 - acc: 0.1704\n",
      "Epoch 16/20\n",
      "7999/7999 [==============================] - 0s 53us/step - loss: 2.2939 - acc: 0.1758\n",
      "Epoch 17/20\n",
      "7999/7999 [==============================] - 1s 73us/step - loss: 2.2915 - acc: 0.1769\n",
      "Epoch 18/20\n",
      "7999/7999 [==============================] - 1s 73us/step - loss: 2.2941 - acc: 0.1734\n",
      "Epoch 19/20\n",
      "7999/7999 [==============================] - 1s 65us/step - loss: 2.2924 - acc: 0.1734\n",
      "Epoch 20/20\n",
      "7999/7999 [==============================] - 1s 83us/step - loss: 2.2839 - acc: 0.1805\n",
      "3999/3999 [==============================] - 1s 128us/step\n",
      "loss 2.29822516716\n",
      "accuracy 0.172293073797\n",
      "[2.3057253777980806, 2.3308638082977891, 2.2982251671559513]\n",
      "[0.17250000070780516, 0.16104025933840299, 0.17229307379744058]\n",
      "Loss mean 2.31160478442\n",
      "accuracy mean 0.168611111281\n"
     ]
    }
   ],
   "source": [
    "import sklearn\n",
    "from keras.models import Sequential\n",
    "from keras.layers import Dense, Activation\n",
    "from keras.optimizers import SGD\n",
    "import keras\n",
    "import numpy as np\n",
    "leLabel = LabelEncoder()\n",
    "oeLavel = OneHotEncoder()\n",
    "enLabel = leLabel.fit_transform(labelList)\n",
    "print(oeLavel.fit_transform(enLabel.reshape(-1, 1)).toarray()[0])\n",
    "\n",
    "labelCate=keras.utils.to_categorical(enLabel, num_classes=12)\n",
    "\n",
    "lossList = []\n",
    "accuracyList = []\n",
    "# cross validation\n",
    "kf = sklearn.model_selection.KFold(3, shuffle=True)\n",
    "for train_indices, test_indices in kf.split(featuresListd, labelCate):\n",
    "    model = Sequential()\n",
    "    model.add(Dense(100, activation='relu', input_dim=38))\n",
    "    model.add(Dense(100, activation='relu'))\n",
    "    model.add(Dense(12, activation='softmax'))\n",
    "\n",
    "    sgd = SGD(lr=0.01, decay=1e-6, momentum=0.9, nesterov=True)\n",
    "    model.compile(loss='categorical_crossentropy',\n",
    "                  optimizer=sgd,\n",
    "                  metrics=['accuracy'])\n",
    "    # 学習\n",
    "    X_train = featuresList[train_indices]\n",
    "    y_train = labelCate[train_indices]\n",
    "    X_test = featuresList[test_indices]\n",
    "    y_test = labelCate[test_indices]\n",
    "    hist = model.fit(X_train, y_train,epochs=20,batch_size=100)\n",
    "    score = model.evaluate(X_test, y_test, batch_size=100)\n",
    "    lossList.append(score[0])\n",
    "    accuracyList.append(score[1])\n",
    "    print(\"loss\",score[0])\n",
    "    print(\"accuracy\",score[1])\n",
    "\n",
    "print(lossList)\n",
    "print(accuracyList)\n",
    "print(\"Loss mean\",sum(lossList)/len(lossList))\n",
    "print(\"accuracy mean\",sum(accuracyList)/len(accuracyList))"
   ]
  }
 ],
 "metadata": {
  "kernelspec": {
   "display_name": "Python 3",
   "language": "python",
   "name": "python3"
  },
  "language_info": {
   "codemirror_mode": {
    "name": "ipython",
    "version": 3
   },
   "file_extension": ".py",
   "mimetype": "text/x-python",
   "name": "python",
   "nbconvert_exporter": "python",
   "pygments_lexer": "ipython3",
   "version": "3.6.6"
  }
 },
 "nbformat": 4,
 "nbformat_minor": 0
}
